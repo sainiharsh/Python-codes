{
 "cells": [
  {
   "cell_type": "code",
   "execution_count": 1,
   "metadata": {},
   "outputs": [],
   "source": [
    "a = \"hello world\"\n",
    "print(a)   ## printing "
   ]
  },
  {
   "cell_type": "code",
   "execution_count": 2,
   "metadata": {},
   "outputs": [
    {
     "name": "stdout",
     "output_type": "stream",
     "text": [
      "10\n"
     ]
    }
   ],
   "source": [
    "a = 10\n",
    "print(a)"
   ]
  },
  {
   "cell_type": "code",
   "execution_count": 3,
   "metadata": {},
   "outputs": [
    {
     "name": "stdout",
     "output_type": "stream",
     "text": [
      "<class 'int'>\n"
     ]
    }
   ],
   "source": [
    "print(type(a))"
   ]
  },
  {
   "cell_type": "code",
   "execution_count": 4,
   "metadata": {},
   "outputs": [
    {
     "name": "stdout",
     "output_type": "stream",
     "text": [
      "1 2 3 4 5\n"
     ]
    }
   ],
   "source": [
    "numbers = input() ## read numbers type of string"
   ]
  },
  {
   "cell_type": "code",
   "execution_count": 5,
   "metadata": {},
   "outputs": [
    {
     "name": "stdout",
     "output_type": "stream",
     "text": [
      "1 2 3 4 5\n"
     ]
    }
   ],
   "source": [
    "print(numbers)  "
   ]
  },
  {
   "cell_type": "code",
   "execution_count": 6,
   "metadata": {},
   "outputs": [
    {
     "name": "stdout",
     "output_type": "stream",
     "text": [
      "<class 'str'>\n"
     ]
    }
   ],
   "source": [
    "print(type(numbers))"
   ]
  },
  {
   "cell_type": "code",
   "execution_count": 7,
   "metadata": {},
   "outputs": [
    {
     "name": "stdout",
     "output_type": "stream",
     "text": [
      "['1', '2', '3', '4', '5']\n"
     ]
    }
   ],
   "source": [
    "numbers = \"1 2 3 4 5\".split() ## split() function will change string type to char type\n",
    "print(numbers)"
   ]
  },
  {
   "cell_type": "code",
   "execution_count": 8,
   "metadata": {},
   "outputs": [
    {
     "data": {
      "text/plain": [
       "1"
      ]
     },
     "execution_count": 8,
     "metadata": {},
     "output_type": "execute_result"
    }
   ],
   "source": [
    "int(numbers[0])  #typecasting only one number"
   ]
  },
  {
   "cell_type": "code",
   "execution_count": 9,
   "metadata": {},
   "outputs": [
    {
     "name": "stdout",
     "output_type": "stream",
     "text": [
      "['1', '2', '3', '4', '5']\n"
     ]
    }
   ],
   "source": [
    "number_list_chars = \"1 2 3 4 5\".split()\n",
    "print(number_list_chars)"
   ]
  },
  {
   "cell_type": "code",
   "execution_count": 10,
   "metadata": {},
   "outputs": [
    {
     "name": "stdout",
     "output_type": "stream",
     "text": [
      "[1, 2, 3, 4, 5]\n"
     ]
    }
   ],
   "source": [
    "number_list_int = [int(x) for x in number_list_chars] #list comprehension (type casting the whole charlist to intint)\n",
    "print(number_list_int)"
   ]
  },
  {
   "cell_type": "code",
   "execution_count": 11,
   "metadata": {},
   "outputs": [
    {
     "name": "stdout",
     "output_type": "stream",
     "text": [
      "Bulbasaur\n",
      "Pikachu\n",
      "Charmender\n",
      "invalid\n",
      "invalid\n"
     ]
    }
   ],
   "source": [
    "for i in number_list_int:   # u can us if else, only if there is less number of cases\n",
    "    if i==1:\n",
    "        print(\"Bulbasaur\")\n",
    "    elif i==2:\n",
    "        print(\"Pikachu\")\n",
    "    elif i==3:\n",
    "        print(\"Charmender\")\n",
    "    else:\n",
    "        print(\"invalid\")"
   ]
  },
  {
   "cell_type": "code",
   "execution_count": 12,
   "metadata": {},
   "outputs": [],
   "source": [
    "# but if ther is large number of cases so we use dictionaries in python\n",
    "#Dictionaries in Python (Hasmaps)\n",
    "pokemon_map = {\n",
    "#  key : value\n",
    "    1 : \"Bulbasaur\",\n",
    "    2 : \"Pikachu\",\n",
    "    3 : \"Charamender\"\n",
    "}"
   ]
  },
  {
   "cell_type": "code",
   "execution_count": 13,
   "metadata": {},
   "outputs": [
    {
     "data": {
      "text/plain": [
       "'Pikachu'"
      ]
     },
     "execution_count": 13,
     "metadata": {},
     "output_type": "execute_result"
    }
   ],
   "source": [
    "pokemon_map[2]"
   ]
  },
  {
   "cell_type": "code",
   "execution_count": 14,
   "metadata": {},
   "outputs": [
    {
     "name": "stdout",
     "output_type": "stream",
     "text": [
      "Pokemon Not Found!\n"
     ]
    }
   ],
   "source": [
    "if pokemon_map.get(5) is None:\n",
    "    print(\"Pokemon Not Found!\")\n",
    "else:\n",
    "    print(pokemon_map[5])"
   ]
  },
  {
   "cell_type": "code",
   "execution_count": 15,
   "metadata": {},
   "outputs": [
    {
     "name": "stdout",
     "output_type": "stream",
     "text": [
      "Bulbasaur\n",
      "Pikachu\n",
      "Charamender\n",
      "Pokemon Not Found!\n",
      "Pokemon Not Found!\n"
     ]
    }
   ],
   "source": [
    "for i in number_list_int:\n",
    "    if pokemon_map.get(i) is None:\n",
    "        print(\"Pokemon Not Found!\")\n",
    "    else:\n",
    "        print(pokemon_map[i])"
   ]
  },
  {
   "cell_type": "code",
   "execution_count": 16,
   "metadata": {},
   "outputs": [
    {
     "data": {
      "text/plain": [
       "'Bulbasaur'"
      ]
     },
     "execution_count": 16,
     "metadata": {},
     "output_type": "execute_result"
    }
   ],
   "source": [
    "# list (another data structure of python)\n",
    "pokemons = [\"Bulbasaur\",\"Pikachu\",\"Charmender\"]\n",
    "pokemons[0]"
   ]
  },
  {
   "cell_type": "code",
   "execution_count": 17,
   "metadata": {},
   "outputs": [
    {
     "name": "stdout",
     "output_type": "stream",
     "text": [
      "('Bulbasaur', 200)\n",
      "<class 'tuple'>\n",
      "<class 'list'>\n"
     ]
    }
   ],
   "source": [
    "# You can make pair in list also \n",
    "# anything which is written in round brackets is TUPLE\n",
    "pokemons = [(\"Bulbasaur\",200),(\"Pikachu\",250),(\"Charmender\",400,700)]\n",
    "print(pokemons[0])\n",
    "print(type(pokemons[0])) # nested list --> list[(tuple)]\n",
    "print(type(pokemons))"
   ]
  },
  {
   "cell_type": "code",
   "execution_count": 18,
   "metadata": {},
   "outputs": [],
   "source": [
    "# anything which is written in round brackets is TUPLE\n",
    "t = (\"A\",\"B\",\"C\") # read only list --> tuple . You cannot update the values and not assign new value only do initalisation part. "
   ]
  },
  {
   "cell_type": "code",
   "execution_count": 21,
   "metadata": {},
   "outputs": [],
   "source": [
    "# Functions\n",
    "def printPokemons(numbers):\n",
    "    # Dictionary\n",
    "    pokemon_map = {\n",
    "#  key : value\n",
    "    1 : \"Bulbasaur\",\n",
    "    2 : \"Pikachu\",\n",
    "    3 : \"Charamender\"\n",
    "}\n",
    "    # Loop\n",
    "    for i in number_list_int:\n",
    "        if pokemon_map.get(i) is None:\n",
    "            print(\"Pokemon Not Found!\")\n",
    "        else:\n",
    "            print(pokemon_map[i])\n",
    "        \n",
    "    return    "
   ]
  },
  {
   "cell_type": "code",
   "execution_count": 22,
   "metadata": {},
   "outputs": [
    {
     "name": "stdout",
     "output_type": "stream",
     "text": [
      "1 2 3 4 5 6\n",
      "Bulbasaur\n",
      "Pikachu\n",
      "Charamender\n",
      "Pokemon Not Found!\n",
      "Pokemon Not Found!\n"
     ]
    }
   ],
   "source": [
    "numbers = [int(x) for x in input().split()]\n",
    "printPokemons(numbers)"
   ]
  },
  {
   "cell_type": "code",
   "execution_count": null,
   "metadata": {},
   "outputs": [],
   "source": []
  }
 ],
 "metadata": {
  "kernelspec": {
   "display_name": "Python 3",
   "language": "python",
   "name": "python3"
  },
  "language_info": {
   "codemirror_mode": {
    "name": "ipython",
    "version": 3
   },
   "file_extension": ".py",
   "mimetype": "text/x-python",
   "name": "python",
   "nbconvert_exporter": "python",
   "pygments_lexer": "ipython3",
   "version": "3.7.6"
  }
 },
 "nbformat": 4,
 "nbformat_minor": 4
}
